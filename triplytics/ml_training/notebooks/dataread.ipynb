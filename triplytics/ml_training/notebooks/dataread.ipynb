{
 "cells": [
  {
   "cell_type": "code",
   "execution_count": 1,
   "id": "a553a8ee",
   "metadata": {},
   "outputs": [],
   "source": [
    "import pandas as pd \n"
   ]
  },
  {
   "cell_type": "code",
   "execution_count": 8,
   "id": "1c42a58d",
   "metadata": {},
   "outputs": [
    {
     "name": "stdout",
     "output_type": "stream",
     "text": [
      "          City  Ratings Ideal_duration  Best_time_to_visit  \\\n",
      "0       Manali      4.5            2-4        October-June   \n",
      "1   Leh Ladakh      4.6            5-7         JulyOctober   \n",
      "2        Coorg      4.2            2-3      September-June   \n",
      "3      Andaman      4.5            4-6       October-March   \n",
      "4  Lakshadweep      4.0            4-6  September-February   \n",
      "\n",
      "                                           City_desc  \n",
      "0  [' One of the most popular hill stations in Hi...  \n",
      "1  [\" Ladakh is a union territory in the Kashmir ...  \n",
      "2  [' Located amidst imposing mountains in Karnat...  \n",
      "3  [' Replete with turquoise blue water beaches a...  \n",
      "4  [\" Formerly known as Laccadive Islands, Laksha...  \n",
      "     City                                           Place  Ratings  \\\n",
      "0  Manali         1. Capture the Sceneries of Old Manali       3.9   \n",
      "1  Manali   2. Engage in the Adventures of Solang Valley       4.6   \n",
      "2  Manali                            3. Jogini Waterfall       4.6   \n",
      "3  Manali                              4. Hadimba Temple       4.4   \n",
      "4  Manali                                5. Rohtang Pass       4.4   \n",
      "\n",
      "                    Distance  \\\n",
      "0    2 km  from city center    \n",
      "1    8 km  from city center    \n",
      "2    4 km  from city center    \n",
      "3    1 km  from city center    \n",
      "4   16 km  from city center    \n",
      "\n",
      "                                          Place_desc  \n",
      "0   On the other side of the Manalsu river is a p...  \n",
      "1   Solang Valley is one of the most popular tour...  \n",
      "2   Jogini Waterfall is located about 3 kilometre...  \n",
      "3   Hadimba temple, away from the hustle and bust...  \n",
      "4   Rohtang pass is the stretch which connects Ma...  \n"
     ]
    }
   ],
   "source": [
    "df = pd.read_csv(r\"C:\\Users\\HP\\Desktop\\New folder (2)\\ML_DS_Project\\triplytics\\ml_training\\data\\City.csv\")\n",
    "print(df.head())\n",
    "pf=pd.read_csv(r\"C:\\Users\\HP\\Desktop\\New folder (2)\\ML_DS_Project\\triplytics\\ml_training\\data\\Places.csv\")\n",
    "print(pf.head())"
   ]
  },
  {
   "cell_type": "code",
   "execution_count": null,
   "id": "290ff79b",
   "metadata": {},
   "outputs": [],
   "source": []
  }
 ],
 "metadata": {
  "kernelspec": {
   "display_name": "base",
   "language": "python",
   "name": "python3"
  },
  "language_info": {
   "codemirror_mode": {
    "name": "ipython",
    "version": 3
   },
   "file_extension": ".py",
   "mimetype": "text/x-python",
   "name": "python",
   "nbconvert_exporter": "python",
   "pygments_lexer": "ipython3",
   "version": "3.13.5"
  }
 },
 "nbformat": 4,
 "nbformat_minor": 5
}
